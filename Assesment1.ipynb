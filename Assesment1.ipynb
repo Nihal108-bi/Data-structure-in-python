{
 "cells": [
  {
   "cell_type": "code",
   "execution_count": 1,
   "id": "542467bc-744e-4d5b-8aec-0de7160693a8",
   "metadata": {},
   "outputs": [
    {
     "data": {
      "text/plain": [
       "'separg ognam ananab elppa'"
      ]
     },
     "execution_count": 1,
     "metadata": {},
     "output_type": "execute_result"
    }
   ],
   "source": [
    "#Question1:-\" Write a code to reverse a string \"\n",
    "str=\"apple banana mango grapes\"\n",
    "type(str)\n",
    "str[::-1]"
   ]
  },
  {
   "cell_type": "code",
   "execution_count": 21,
   "id": "60adc36d-84b6-45ca-ad1c-5ebad755ae43",
   "metadata": {},
   "outputs": [
    {
     "name": "stdout",
     "output_type": "stream",
     "text": [
      "number of vowel in str:  9\n"
     ]
    }
   ],
   "source": [
    "#Question2:-\"Write a code to count the number of vowels in a string\"\n",
    "str=\"apple banana mango grapes\"\n",
    "\n",
    "vowel={\"a\",\"e\",\"i\",\"o\",\"u\",\"A\",\"E\",\"I\",\"O\",\"U\"}\n",
    "count=0\n",
    "for char in str:\n",
    "    if char in vowel:\n",
    "        count+=1\n",
    "            \n",
    "print(\"number of vowel in str: \",count)            \n"
   ]
  },
  {
   "cell_type": "code",
   "execution_count": null,
   "id": "8d82feb7-5fbc-43dc-bcbc-40c9461bb3e4",
   "metadata": {},
   "outputs": [],
   "source": [
    "#Question3:-\"Write a code to check if a given string is a palindrome or not\"\n",
    "\n",
    "Word = \"alfhabet\"\n",
    "Word[::-1]\n",
    "if( Word==Word[::-1]):\n",
    "    print(\"Given string is palindrome \")\n",
    "else:\n",
    "    print(\"not palindrome\")"
   ]
  },
  {
   "cell_type": "code",
   "execution_count": 7,
   "id": "53fe078d-9e61-4d77-9eae-57230c23971e",
   "metadata": {},
   "outputs": [
    {
     "name": "stdout",
     "output_type": "stream",
     "text": [
      "strings are not anagrams of each other: \n"
     ]
    }
   ],
   "source": [
    "#Question4:-\"Write a code to check if two given strings are anagrams of each other\"\n",
    "\n",
    "str1=\"accociated\"\n",
    "str2=\"arithmatics\"\n",
    "\n",
    "sorted(str1)\n",
    "sorted(str2)\n",
    "if (sorted(str1)==sorted(str2)):\n",
    "    print(\"strings are anagrams of each other: \")\n",
    "else:\n",
    "    print(\"strings are not anagrams of each other: \")\n"
   ]
  },
  {
   "cell_type": "code",
   "execution_count": 13,
   "id": "eb834b8e-e4d5-453d-b59a-77f93bcb9eca",
   "metadata": {},
   "outputs": [
    {
     "name": "stdout",
     "output_type": "stream",
     "text": [
      "substring is occuring:\n"
     ]
    }
   ],
   "source": [
    "#Question5:-\"Write a code to find all occurrences of a given substring within another string\"\n",
    "\n",
    "string=\"My name is chingum, chingum ke changul se bachna impossible\"\n",
    "substring=\"chingum\"\n",
    "if substring in string:\n",
    "    print(\"substring is occuring:\")\n",
    "else:\n",
    "    print(\"Not occuring\")\n",
    "    \n"
   ]
  },
  {
   "cell_type": "code",
   "execution_count": 2,
   "id": "34892cd6-da5b-40ac-9ed6-7f86c1ca799e",
   "metadata": {},
   "outputs": [
    {
     "name": "stdout",
     "output_type": "stream",
     "text": [
      "Compressed string: l1a1l1b1a1h1a1d1u1r1s1h1a1s1t1r1i1\n"
     ]
    }
   ],
   "source": [
    "#Question6: \"Write a code to perform basic string compression using the counts of repeated characters\"\n",
    "\n",
    "# Define the string to compress\n",
    "original_string = \"lalbahadurshastri\"\n",
    "\n",
    "# Initialize variables\n",
    "compressed_string = \"\"\n",
    "current_char = \"\"\n",
    "count = 0\n",
    "\n",
    "# Iterate through each character in the string\n",
    "for char in original_string:\n",
    "    # If it's the first character or the same as the previous one\n",
    "    if char == current_char:\n",
    "        count += 1\n",
    "    else:\n",
    "        # If it's a new character, add the count of the previous character to the compressed string\n",
    "        if count > 0:\n",
    "            compressed_string += current_char + str(count)\n",
    "        # Update the current character and reset the count\n",
    "        current_char = char\n",
    "        count = 1\n",
    "\n",
    "# Add the count of the last character to the compressed string\n",
    "if count > 0:\n",
    "    compressed_string += current_char + str(count)\n",
    "\n",
    "# Print the compressed string\n",
    "print(\"Compressed string:\", compressed_string)\n"
   ]
  },
  {
   "cell_type": "code",
   "execution_count": 2,
   "id": "6e298d81-6dd8-43ee-a850-28b3afc3735a",
   "metadata": {},
   "outputs": [
    {
     "name": "stdin",
     "output_type": "stream",
     "text": [
      "enter a string: abct\n"
     ]
    },
    {
     "name": "stdout",
     "output_type": "stream",
     "text": [
      "string has no duplicate charater:\n"
     ]
    }
   ],
   "source": [
    "#question:- write a code to detemine  if a string has all unique charater?\n",
    "input_str=input(\"enter a string:\")\n",
    "\n",
    "#create an empty set to keep track of encountered character\n",
    "seen_characters=set()\n",
    "\n",
    "#flag to track if we found any duplicate character\n",
    "has_duplicate=False\n",
    "\n",
    "for char in input_str:\n",
    "    \n",
    "    #if the cha is already in the set, it's a duplicate cha\n",
    "    if char in seen_characters:\n",
    "        has_duplicate=True\n",
    "        break\n",
    "     #otherwise . add the charater to the set   \n",
    "    seen_characters.add(char)\n",
    "    \n",
    "\n",
    "if has_duplicate:\n",
    "    print(\"string has duplicate chareter:\")\n",
    "else:\n",
    "    print(\"string has no duplicate charater:\")\n",
    "    \n",
    "    \n",
    "\n",
    "\n",
    "\n",
    "\n",
    "\n"
   ]
  },
  {
   "cell_type": "code",
   "execution_count": 8,
   "id": "779cdc2f-7d6d-43d2-b931-3f06dc19c540",
   "metadata": {},
   "outputs": [
    {
     "name": "stdin",
     "output_type": "stream",
     "text": [
      "Enter the string to convert...: hey how ARe\n"
     ]
    },
    {
     "name": "stdout",
     "output_type": "stream",
     "text": [
      "uppercase: HEY HOW ARE\n",
      "lowercase: hey how are\n"
     ]
    }
   ],
   "source": [
    "#question8:- write a code to convert a string in uppercase or lowercase?\n",
    "\n",
    "string=input(\"Enter the string to convert...:\")\n",
    "\n",
    "#for convert string in uppercase\n",
    "uppercase_str=string.upper()\n",
    "print(\"uppercase:\",uppercase_str)\n",
    "\n",
    "#for converting in lowercase\n",
    "\n",
    "lowercase_str=string.lower()\n",
    "print(\"lowercase:\", lowercase_str)\n",
    "\n"
   ]
  },
  {
   "cell_type": "code",
   "execution_count": 9,
   "id": "a987f82a-0a0e-4206-8a6e-fba92949f583",
   "metadata": {},
   "outputs": [
    {
     "name": "stdin",
     "output_type": "stream",
     "text": [
      "Enter the string to count number of word: Hey how are you , i am fine\n"
     ]
    },
    {
     "name": "stdout",
     "output_type": "stream",
     "text": [
      "Number of words: 8\n"
     ]
    }
   ],
   "source": [
    "#Question9:-write a code to count the number of word in a string?\n",
    "\n",
    "string=input(\"Enter the string to count number of word:\")\n",
    "\n",
    "words= string.split()\n",
    "\n",
    "num_words=len(words)\n",
    "\n",
    "\n",
    "print(\"Number of words:\",num_words)\n",
    "\n",
    "\n",
    "    \n",
    "\n"
   ]
  },
  {
   "cell_type": "code",
   "execution_count": 12,
   "id": "356fd675-47a0-4106-8d37-8550ccb505c5",
   "metadata": {},
   "outputs": [
    {
     "name": "stdin",
     "output_type": "stream",
     "text": [
      "Enter the string1: Hey how are you:  \n",
      "Enter the string2: Fine\n"
     ]
    },
    {
     "name": "stdout",
     "output_type": "stream",
     "text": [
      "Hey how are you:  Fine\n"
     ]
    }
   ],
   "source": [
    "#Question10:-write a code to concatinate two string without using of + operator.\n",
    "str1=input(\"Enter the string1:\")\n",
    "str2=input(\"Enter the string2:\")\n",
    "\n",
    "concatenated_str=\"%s%s\"%(str1,str2)\n",
    "print(concatenated_str)\n"
   ]
  },
  {
   "cell_type": "code",
   "execution_count": 17,
   "id": "938a8122-6937-44c1-9be2-fb68e1805d4b",
   "metadata": {},
   "outputs": [
    {
     "data": {
      "text/plain": [
       "['jpg', 'png', 'jpg', 'png']"
      ]
     },
     "execution_count": 17,
     "metadata": {},
     "output_type": "execute_result"
    }
   ],
   "source": [
    "#Question11:-write a code to remove all occurance of specific eliment from list.\n",
    "list= [\"nihal.jpg\",\"ajay.png\",\"sree.jpg\",\"po.png\"]\n",
    "\n",
    "[lis.split(\".\")[-1] for lis in list]\n",
    "\n"
   ]
  },
  {
   "cell_type": "code",
   "execution_count": 9,
   "id": "caf5483e-03cd-4640-b9cb-fe8b000c156d",
   "metadata": {},
   "outputs": [
    {
     "name": "stdout",
     "output_type": "stream",
     "text": [
      "[23, 34, 57, 78, 89, 90, 101, 103]\n",
      "Second largest number: 101\n"
     ]
    }
   ],
   "source": [
    "#Question 12:-implement a code to find the second largest number in list of integer\n",
    "\n",
    "Numbers= [23, 34, 78,89,90,57,101,103]\n",
    "\n",
    "Numbers.sort()\n",
    "print(Numbers)\n",
    "#To find seconde largest number in list\n",
    "print( \"Second largest number:\" ,Numbers[-2])\n",
    "\n",
    "\n"
   ]
  },
  {
   "cell_type": "code",
   "execution_count": 15,
   "id": "fa83ddf3-89b8-4106-94b6-168dab91b823",
   "metadata": {},
   "outputs": [
    {
     "name": "stdout",
     "output_type": "stream",
     "text": [
      "{'math': 2, 'science': 4, 'nj': 3}\n"
     ]
    }
   ],
   "source": [
    "#Question 13:-Create a code  to count the occurance of each element in a list and return a dictionary with element as keys and thier count as values.\n",
    "\n",
    "#input list of element\n",
    "input_list= [\"math\",\"math\",\"science\",\"science\",\"science\",\"science\", \"nj\",\"nj\",\"nj\"]\n",
    "\n",
    "#initialise an emty dictionary to store elements count s\n",
    "element_count={}\n",
    "\n",
    "#iterate through each element in the input list\n",
    "for ele in input_list:\n",
    "    #check if the element in already in the dictionary\n",
    "    if ele in element_count:\n",
    "        # if yes , increament the count for that element \n",
    "        element_count[ele]+=1\n",
    "    else:\n",
    "        #if no, initialize the count for that element \n",
    "        element_count[ele]=1\n",
    "        \n",
    "# for ele,count in element_count.items():\n",
    "#     print(f\"Element count {ele}:{count}\")\n",
    "print(element_count)"
   ]
  },
  {
   "cell_type": "code",
   "execution_count": null,
   "id": "b646c527-6e27-4f95-92cf-6700ad5480d3",
   "metadata": {},
   "outputs": [],
   "source": []
  },
  {
   "cell_type": "code",
   "execution_count": 21,
   "id": "b0bbe92b-ec0f-4661-9d0e-09069c33298d",
   "metadata": {},
   "outputs": [
    {
     "name": "stdout",
     "output_type": "stream",
     "text": [
      "original list: [23, 34, 78, 89, 90, 57, 101, 103]\n",
      "revrse list: [103, 101, 57, 90, 89, 78, 34, 23]\n"
     ]
    }
   ],
   "source": [
    "#Question 14:-write a code to reverse a list in-place  without using any-built -in reverse functions.\n",
    "\n",
    "Input_list= [23, 34, 78,89,90,57,101,103]\n",
    "print(\"original list:\",Input_list)\n",
    "\n",
    "#initialize pointer\n",
    "left=0\n",
    "right=len(Input_list)-1\n",
    "\n",
    "#iterate until the pointer meet or cross each other \n",
    "while(left<right):\n",
    "    \n",
    "    #swap element at left and right indices\n",
    "    Input_list[left],Input_list[right] = Input_list[right],Input_list[left]\n",
    "    \n",
    "    left+=1\n",
    "    \n",
    "    right-=1\n",
    "    \n",
    "print(\"revrse list:\",Input_list)    \n",
    "\n"
   ]
  },
  {
   "cell_type": "code",
   "execution_count": null,
   "id": "8c2c5e23-726b-4c34-8002-895c49beb9fb",
   "metadata": {},
   "outputs": [],
   "source": []
  },
  {
   "cell_type": "code",
   "execution_count": 2,
   "id": "bb9a152b-0913-4a24-ab2c-f1f948f0f8e1",
   "metadata": {},
   "outputs": [
    {
     "name": "stdout",
     "output_type": "stream",
     "text": [
      "{1, 2, 3, 4, 5, 6, 7, 8}\n"
     ]
    }
   ],
   "source": [
    "#Question15:-implement a code to find and remove duplictes from a list while preserving the original order of element.\n",
    "list=[1,2,3,4,5,6,7,8,8,7,6,5,4,3,2,1]\n",
    "\n",
    "remove_duplicate=set(list)\n",
    "print(remove_duplicate)"
   ]
  },
  {
   "cell_type": "code",
   "execution_count": 4,
   "id": "090c4ab8-6578-4aad-b3d1-85e92b49e61b",
   "metadata": {},
   "outputs": [
    {
     "name": "stdout",
     "output_type": "stream",
     "text": [
      "list is not sorted\n"
     ]
    }
   ],
   "source": [
    "#Question 16:-create a code to check if a given list is sorted (either in ascending or descending order) or not.\n",
    "List=[1,2,3,4,5,6,7,8,81,71,61,51,41,31,21,11]\n",
    "if List is sorted:\n",
    "    print(\"list is sorted\")\n",
    "else:\n",
    "    print(\"list is not sorted\")\n",
    "\n"
   ]
  },
  {
   "cell_type": "code",
   "execution_count": 8,
   "id": "a27f2216-d410-4d8b-b5bd-6cec43f5d5c5",
   "metadata": {},
   "outputs": [
    {
     "name": "stdout",
     "output_type": "stream",
     "text": [
      "[1, 2, 3, 4, 5, 6, 7, 8, 9]\n"
     ]
    }
   ],
   "source": [
    "#Question 17:-Write a code to merge two sorted lists into a single sorted list.\n",
    "\n",
    "def Merge_sorted_list(list1,list2):\n",
    "    \n",
    "    merge_list=[]\n",
    "    i=0\n",
    "    j=0\n",
    "    \n",
    "    while i<len(list1) and j<len(list2):\n",
    "        \n",
    "        if list1[i]<list2[j]:\n",
    "            merge_list.append(list1[i])\n",
    "            i+=1\n",
    "            \n",
    "        else:\n",
    "            merge_list.append(list2[j])\n",
    "            j+=1\n",
    "            \n",
    "    while i<len(list1):\n",
    "        merge_list.append(list1[i])\n",
    "        i+=1\n",
    "        \n",
    "    while j<len(list2):\n",
    "        merge_list.append(list2[j])\n",
    "        j+=1\n",
    "                \n",
    "    return merge_list\n",
    "                \n",
    "                \n",
    "list1=[1,2,3,6,7]\n",
    "list2=[4,5,8,9]\n",
    "merge_sorted_list= Merge_sorted_list(list1,list2)\n",
    "print(merge_sorted_list)                 \n"
   ]
  },
  {
   "cell_type": "code",
   "execution_count": 6,
   "id": "2e4d193d-a67c-4dac-a8ac-4c42edefed63",
   "metadata": {},
   "outputs": [
    {
     "name": "stdout",
     "output_type": "stream",
     "text": [
      "intersection of list:  [3, 4, 5, 7, 8]\n"
     ]
    }
   ],
   "source": [
    "#Question 18:-implement a code to find intersection of give list.\n",
    "\n",
    "l1=[1,2,3,3,4,5,6,7,8]\n",
    "l2=[3,4,9,8,7,5]\n",
    "l=set(l1) & set(l2)\n",
    "\n",
    "print(\"intersection of list: \",list(l))"
   ]
  },
  {
   "cell_type": "code",
   "execution_count": 5,
   "id": "bf58d54c-51ed-4fea-affb-3f0074166308",
   "metadata": {},
   "outputs": [
    {
     "name": "stdout",
     "output_type": "stream",
     "text": [
      "union of two list: [1, 2, 3, 4, 5, 69, 68]\n"
     ]
    }
   ],
   "source": [
    "# Question 19:-Create a code to find  the union of two lists.\n",
    "list1=[1,2,3,4,5,69]\n",
    "list2=[4,5,68,69,2]\n",
    "\n",
    "list_union= set(list1) | set(list2)\n",
    "\n",
    "print(\"union of two list:\",list(list_union))"
   ]
  },
  {
   "cell_type": "code",
   "execution_count": 2,
   "id": "d3941223-4094-460c-b490-0707ab827764",
   "metadata": {},
   "outputs": [
    {
     "name": "stdout",
     "output_type": "stream",
     "text": [
      "Oridinal List: [1, 2, 3, 4, 5, 6]\n",
      "Suffled List: [2, 1, 4, 5, 2, 5]\n"
     ]
    }
   ],
   "source": [
    "#Question 20:- write a code to shuffle a given list randomly without using any built-in  shuffle functions.\n",
    "import random\n",
    "\n",
    "list=[1,2,3,4,5,6]\n",
    "\n",
    "print(\"Oridinal List:\", list)\n",
    "n=len(list)\n",
    "n_list=[]\n",
    "for i in range(n):\n",
    "    j=random.randint(0,n-1)\n",
    "    n_list.append(j)\n",
    "    \n",
    "print(\"Suffled List:\",n_list)    \n"
   ]
  },
  {
   "cell_type": "code",
   "execution_count": null,
   "id": "1afd17e2-9457-4ab2-9aa4-4a65eca276c8",
   "metadata": {},
   "outputs": [],
   "source": []
  },
  {
   "cell_type": "code",
   "execution_count": 19,
   "id": "496b63a3-91cb-4125-b405-9c4c20bbceb5",
   "metadata": {},
   "outputs": [
    {
     "name": "stdin",
     "output_type": "stream",
     "text": [
      "Enter element for tuple1: pwskill22\n",
      "Enter element for tuple2: pwlab233\n"
     ]
    },
    {
     "name": "stdout",
     "output_type": "stream",
     "text": [
      "New tuple which are common in both tuble: ('p', 'l', 'w', '2')\n"
     ]
    }
   ],
   "source": [
    "#Question 21:-write a code  that take two tuples as input and returns a new tuple containg element that are common in both input tuple??\n",
    "tuple1=tuple(input(\"Enter element for tuple1:\"))\n",
    "tuple2=tuple(input(\"Enter element for tuple2:\"))\n",
    "#covert tuple1 into set for intersection\n",
    "a=set(tuple1)\n",
    "#convert tuple2 into set for intersection\n",
    "b=set(tuple2)\n",
    "#common set for common tuple\n",
    "common_set = a & b\n",
    "\n",
    "new_tuple =print(\"New tuple which are common in both tuble:\", tuple(common_set))\n",
    "\n"
   ]
  },
  {
   "cell_type": "code",
   "execution_count": null,
   "id": "a9914f93-f3c2-4566-8506-df74e6e46ca8",
   "metadata": {},
   "outputs": [],
   "source": []
  },
  {
   "cell_type": "code",
   "execution_count": 2,
   "id": "a37eef24-cb70-487b-b3f3-02842cb56841",
   "metadata": {},
   "outputs": [
    {
     "name": "stdout",
     "output_type": "stream",
     "text": [
      "Enter the first set:\n"
     ]
    },
    {
     "name": "stdin",
     "output_type": "stream",
     "text": [
      "enter the set of interger with seprated with commas (e.g:- 1,2,3):  1,2,3,4\n"
     ]
    },
    {
     "name": "stdout",
     "output_type": "stream",
     "text": [
      "Enter the second set:\n"
     ]
    },
    {
     "name": "stdin",
     "output_type": "stream",
     "text": [
      "enter the set of interger with seprated with commas (e.g:- 1,2,3):  4,4,5\n"
     ]
    },
    {
     "name": "stdout",
     "output_type": "stream",
     "text": [
      "\n",
      " Intersection of the two sets:  {4}\n"
     ]
    }
   ],
   "source": [
    "#Question 22:- Create a code that prompts the user to enter two sets of intgers by commas. Then , print the intersection of these two sets.\n",
    "\n",
    "def get_integer_set():\n",
    "    while True:\n",
    "        try:\n",
    "            input_str=input(\"enter the set of interger with seprated with commas (e.g:- 1,2,3): \")\n",
    "            \n",
    "            intger_set={int(num) for num in input_str.split(',')}\n",
    "            \n",
    "            return intger_set\n",
    "        \n",
    "        except ValueError:\n",
    "            print(\"invalid input. please enter the intergers seperated  with commas:\")\n",
    "            \n",
    "print(\"Enter the first set:\")\n",
    "set1=get_integer_set()\n",
    "\n",
    "print(\"Enter the second set:\")\n",
    "set2=get_integer_set()\n",
    "\n",
    "Intersection_set= set1 & set2\n",
    "\n",
    "print(\"\\n Intersection of the two sets: \", Intersection_set)\n",
    "\n",
    "            "
   ]
  },
  {
   "cell_type": "code",
   "execution_count": null,
   "id": "d2f2b722-0da8-4387-9bcb-7e62d33853e6",
   "metadata": {},
   "outputs": [],
   "source": []
  },
  {
   "cell_type": "code",
   "execution_count": 12,
   "id": "a4e77ecc-e7e1-40f8-87ca-b0e9d8b5a993",
   "metadata": {},
   "outputs": [
    {
     "name": "stdout",
     "output_type": "stream",
     "text": [
      "Enter the first tuple:\n"
     ]
    },
    {
     "name": "stdin",
     "output_type": "stream",
     "text": [
      "enter the set of interger with seprated with commas (e.g:- 1,2,3):  1,2,3,4\n"
     ]
    },
    {
     "name": "stdout",
     "output_type": "stream",
     "text": [
      "Enter the second tuple:\n"
     ]
    },
    {
     "name": "stdin",
     "output_type": "stream",
     "text": [
      "enter the set of interger with seprated with commas (e.g:- 1,2,3):  3,4,5\n"
     ]
    },
    {
     "name": "stdout",
     "output_type": "stream",
     "text": [
      "\n",
      " concatenate of the two tuples:  (1, 2, 3, 4, 3, 4, 5)\n"
     ]
    }
   ],
   "source": [
    "#Question22:-Write a code to concateneate two tuples. The function should take two  tuples as input and return a new tuples containg elements from both input tuples.\n",
    "def get_integer_tuple():\n",
    "    while True:\n",
    "        try:\n",
    "            input_str=input(\"enter the set of interger with seprated with commas (e.g:- 1,2,3): \")\n",
    "            \n",
    "            intger_tuple=tuple(map(int,input_str.split(',')))\n",
    "            \n",
    "            return intger_tuple\n",
    "        \n",
    "        except ValueError:\n",
    "            print(\"invalid input. please enter the intergers seperated  with commas:\")\n",
    "def concatenate_tuple(tup1,tup2):\n",
    "    concatenate_tuple= tup1+ tup2\n",
    "    return concatenate_tuple\n",
    "            \n",
    "print(\"Enter the first tuple:\")\n",
    "tuple1=get_integer_tuple()\n",
    "\n",
    "print(\"Enter the second tuple:\")\n",
    "tuple2=get_integer_tuple()\n",
    "\n",
    "resultent_tuples=concatenate_tuple(tuple1,tuple2)\n",
    "\n",
    "print(\"\\n concatenate of the two tuples: \",resultent_tuples)\n"
   ]
  },
  {
   "cell_type": "code",
   "execution_count": 3,
   "id": "ae8a6c37-c757-4206-ac22-8c06def75755",
   "metadata": {},
   "outputs": [
    {
     "name": "stdout",
     "output_type": "stream",
     "text": [
      "\n",
      " Enter the first set of string:\n"
     ]
    },
    {
     "name": "stdin",
     "output_type": "stream",
     "text": [
      "Enter the string set which are seperated with commas(eg. banana, mango): mango,banana,grapes,pineapple\n"
     ]
    },
    {
     "name": "stdout",
     "output_type": "stream",
     "text": [
      "\n",
      " Enter the second set of string:\n"
     ]
    },
    {
     "name": "stdin",
     "output_type": "stream",
     "text": [
      "Enter the string set which are seperated with commas(eg. banana, mango): apple, grapes\n"
     ]
    },
    {
     "name": "stdout",
     "output_type": "stream",
     "text": [
      "\n",
      "Elements in the first set but not in the second set: {'banana', 'mango', 'pineapple', 'grapes'}\n"
     ]
    }
   ],
   "source": [
    "#Question24:-Develop a code that prompt the users to input two sets of string . Then , print the elements that are present in the first set but not in second set.\n",
    "def input_string_set():\n",
    "    input_str=input(\"Enter the string set which are seperated with commas(eg. banana, mango):\")\n",
    "    string_set=set(input_str.split(','))\n",
    "    return string_set\n",
    "\n",
    "print(\"\\n Enter the first set of string:\")\n",
    "set1=input_string_set()\n",
    "\n",
    "print(\"\\n Enter the second set of string:\")\n",
    "set2=input_string_set()\n",
    "\n",
    "new_set= set1-set2\n",
    "print(\"\\nElements in the first set but not in the second set:\", new_set)"
   ]
  },
  {
   "cell_type": "code",
   "execution_count": null,
   "id": "bfcaeebd-56da-409e-b02e-857f34efbf4d",
   "metadata": {},
   "outputs": [],
   "source": []
  },
  {
   "cell_type": "code",
   "execution_count": 5,
   "id": "2c6b0691-8df4-4fdd-be86-9ef46a6811e5",
   "metadata": {},
   "outputs": [
    {
     "name": "stdout",
     "output_type": "stream",
     "text": [
      "original tuple: (1, 2, 3, 4, 5, 6, 7, 8, 9)\n",
      "New Tuple (Indices 2 to 6): None\n"
     ]
    }
   ],
   "source": [
    "#Question 25:-create a code that takes a tuple and two integers as input . the function should return a new tuple containing elements from the original tuple within the specifed range of indices.\n",
    "def slice_tuple(input_tuple,start_index,end_index):\n",
    "    #validate the indices\n",
    "    if start_index<0 or start_index>=len(input_tuple) or end_index<start_index or end_index>len(input_tuple):\n",
    "        raise ValueError(\"Invalide start or end index\")\n",
    "        \n",
    "        # slice the input tuple to extract element within the specified range\n",
    "        sliced_tuple=input_tuple[start_index:end_index]\n",
    "        \n",
    "        #return sliced tuple\n",
    "        return sliced_tuple\n",
    "    \n",
    "original_tuple=(1,2,3,4,5,6,7,8,9)\n",
    "start_index=2\n",
    "end_index=6\n",
    "\n",
    "try:\n",
    "    result_tuple=slice_tuple(original_tuple,start_index,end_index)\n",
    "    print(\"original tuple:\", original_tuple)\n",
    "    print(f\"New Tuple (Indices {start_index} to {end_index}):\", result_tuple)\n",
    "except ValueError as e:\n",
    "    print(e)\n",
    "    \n"
   ]
  },
  {
   "cell_type": "code",
   "execution_count": 18,
   "id": "48ddc702-a9e5-4e32-b895-a60daf7e2c47",
   "metadata": {},
   "outputs": [
    {
     "name": "stdin",
     "output_type": "stream",
     "text": [
      "Enter the set one value seperated with commas:  1,2,3,4,4,a\n",
      "Enter the set one value seperated with commas:  a,1,2,3,4,5\n"
     ]
    },
    {
     "name": "stdout",
     "output_type": "stream",
     "text": [
      "The union of sets is : {'2', '4', 'a', '3', '1'}\n"
     ]
    }
   ],
   "source": [
    "#Question 26:-Write a codethat prompts the user to input two sets of characters. then print union of these two sets??\n",
    "\n",
    "str1= input(\"Enter the set one value seperated with commas: \")\n",
    "str2= input(\"Enter the set one value seperated with commas: \")\n",
    "set1=set(str1.split(\",\"))\n",
    "set2=set(str2.split(\",\"))\n",
    "union_set=set1 or set2\n",
    "print(\"The union of sets is :\" ,union_set)\n"
   ]
  },
  {
   "cell_type": "code",
   "execution_count": null,
   "id": "23943757-ccb2-469a-8aed-c65f3f8839b9",
   "metadata": {},
   "outputs": [],
   "source": []
  },
  {
   "cell_type": "code",
   "execution_count": 1,
   "id": "1ec8438c-8b6b-4e7b-b44b-32e2dbd4bf73",
   "metadata": {},
   "outputs": [
    {
     "name": "stdin",
     "output_type": "stream",
     "text": [
      "enter the set of interger with seprated with commas (e.g:- 1,2,3):  1,2,3,4,5,66,\n"
     ]
    },
    {
     "name": "stdout",
     "output_type": "stream",
     "text": [
      "invalid input. please enter the intergers seperated  with commas:\n"
     ]
    },
    {
     "name": "stdin",
     "output_type": "stream",
     "text": [
      "enter the set of interger with seprated with commas (e.g:- 1,2,3):  3,3,3,3,3,32,4,5,6,2,4,9\n"
     ]
    },
    {
     "name": "stdout",
     "output_type": "stream",
     "text": [
      "max value in input tuple is : 32\n",
      "min value in input tuple is : 2\n"
     ]
    }
   ],
   "source": [
    "#Question 27:- Create acode that takes a tuple of an integers as input .The function should return the maximum and minimum value from the tuple using tuple unpaking??\n",
    "def get_input_tuple():\n",
    "    while True:\n",
    "        try:\n",
    "            input_str=input(\"enter the set of interger with seprated with commas (e.g:- 1,2,3): \")\n",
    "            \n",
    "            input_tuple=tuple(map(int,input_str.split(',')))\n",
    "            \n",
    "            return input_tuple\n",
    "        \n",
    "        except ValueError:\n",
    "            print(\"invalid input. please enter the intergers seperated  with commas:\")\n",
    "            \n",
    "input_tuple= get_input_tuple()           \n",
    "\n",
    "min_value=max_value=input_tuple[0]\n",
    "\n",
    "for num in input_tuple[1:]:\n",
    "    if(num>max_value):\n",
    "        max_value=num\n",
    "        \n",
    "    elif(num<min_value):\n",
    "        min_value=num\n",
    "\n",
    "print(\"max value in input tuple is :\",max_value)  \n",
    "print(\"min value in input tuple is :\",min_value)\n",
    "        \n",
    "            \n",
    "            \n"
   ]
  },
  {
   "cell_type": "code",
   "execution_count": 4,
   "id": "b15d184e-2ee8-43c7-9816-c18ae0114f30",
   "metadata": {},
   "outputs": [
    {
     "name": "stdout",
     "output_type": "stream",
     "text": [
      "union of sets is : {1, 2, 3, 4, 5, 6, 65, 7, 8, 9, 23, 89, 32, 34, 676, 44, 45}\n",
      "Intersection of sets is : {1, 34, 4, 5, 6}\n",
      "difference of sets is : {32, 2, 3, 45, 23, 89}\n"
     ]
    }
   ],
   "source": [
    "#Question 28:-Create a code that defnes two sets of integers then , print the union ,intersecton and difference of these two sets??\n",
    "set1={1,2,3,4,5,6,89,34,23,45,32,}\n",
    "set2={9,8,7,6,5,4,34,65,676,44,1}\n",
    "\n",
    "print(\"union of sets is :\",set1 | set2)\n",
    "print(\"Intersection of sets is :\",set1 & set2)\n",
    "print(\"difference of sets is :\",set1 - set2)\n",
    "\n"
   ]
  },
  {
   "cell_type": "code",
   "execution_count": 14,
   "id": "4de286ad-302a-44c1-9f26-0bbb91c4aed0",
   "metadata": {},
   "outputs": [
    {
     "name": "stdin",
     "output_type": "stream",
     "text": [
      "Enter elements separated by commas to generate a tuple (e.g., 1,2,3,a,b):  1,2,3,4,a,a,b,a,2\n",
      "Enter the element to count in the tuple:  a\n"
     ]
    },
    {
     "name": "stdout",
     "output_type": "stream",
     "text": [
      "The occurrences of the given element 'a' in the tuple is: 3\n"
     ]
    }
   ],
   "source": [
    "#Question 29:-write a code that takes a tuple and an element as input . the function should return the count of occurrences of the given element in the tuple??\n",
    "\n",
    "def create_input_tuple():\n",
    "    while True:\n",
    "        try:\n",
    "            input_str = input(\"Enter elements separated by commas to generate a tuple (e.g., 1,2,3,a,b): \")\n",
    "            in_tuple = tuple(input_str.split(\",\"))  # Split input string into elements\n",
    "            return in_tuple\n",
    "        except ValueError:\n",
    "            print(\"Invalid input format. Please try again.\")\n",
    "\n",
    "# Get input tuple from the user\n",
    "input_tuple = create_input_tuple()\n",
    "\n",
    "# Get the element to count occurrences from the user\n",
    "element = input(\"Enter the element to count in the tuple: \")\n",
    "\n",
    "# Count occurrences of the element in the tuple\n",
    "occurrences_of_element = input_tuple.count(element)\n",
    "\n",
    "# Print the count of occurrences\n",
    "print(f\"The occurrences of the given element '{element}' in the tuple is: {occurrences_of_element}\")\n",
    "\n",
    "\n",
    "            \n",
    "            \n"
   ]
  },
  {
   "cell_type": "code",
   "execution_count": 19,
   "id": "af153f6a-a0ec-468b-bf4c-5abe3023b2c2",
   "metadata": {},
   "outputs": [
    {
     "name": "stdin",
     "output_type": "stream",
     "text": [
      "Enter the set one value seperated with commas:  1,2,2,3,4,a,a,s\n",
      "Enter the set one value seperated with commas:  a,1,2,\n"
     ]
    },
    {
     "name": "stdout",
     "output_type": "stream",
     "text": [
      "The symmetric_difference of sets is : {'', 's', '4', '3'}\n"
     ]
    }
   ],
   "source": [
    "#question 30:-Develop a code that propmpts the user to input two sets of strings . Then, print the symmetric difference of these two sets??\n",
    "\n",
    "str1= input(\"Enter the set one value seperated with commas: \")\n",
    "str2= input(\"Enter the set one value seperated with commas: \")\n",
    "\n",
    "set1=set(str1.split(\",\"))\n",
    "set2=set(str2.split(\",\"))\n",
    "\n",
    "symmetric_difference = set1^set2\n",
    "print(\"The symmetric_difference of sets is :\", symmetric_difference)"
   ]
  },
  {
   "cell_type": "code",
   "execution_count": null,
   "id": "2e621015-99b7-453c-b2fa-01ddde90f404",
   "metadata": {},
   "outputs": [],
   "source": []
  },
  {
   "cell_type": "code",
   "execution_count": 27,
   "id": "a7e2b6ed-7306-4f96-bf73-3c45cbf245ca",
   "metadata": {},
   "outputs": [
    {
     "name": "stdin",
     "output_type": "stream",
     "text": [
      "Enter the list of words seperated with commas:  nj,bj,aj,dj,pj,rj,nj\n"
     ]
    },
    {
     "name": "stdout",
     "output_type": "stream",
     "text": [
      "Dictionary of word frequencies is: {'nj': 2, 'bj': 1, 'aj': 1, 'dj': 1, 'pj': 1, 'rj': 1}\n"
     ]
    }
   ],
   "source": [
    "#Question 31:-write a code that takes a list of words as input and returns a dictionary where the keys are unique words and the values are the frequencies of those words in the input list.??\n",
    "\n",
    "input_str=input(\"Enter the list of words seperated with commas: \")\n",
    "word_list=input_str.split(\",\")\n",
    "\n",
    "#create a empty dictionary to store word frequencies\n",
    "word_frequency={}\n",
    "\n",
    "#iterate through the list of words\n",
    "for word in word_list:\n",
    "    # check word is allready exist in the dictionary\n",
    "    if word in word_frequency:\n",
    "        word_frequency[word]+=1\n",
    "    else:\n",
    "        word_frequency[word]=1\n",
    "        \n",
    "#print the dictionary\n",
    "print(\"Dictionary of word frequencies is:\",word_frequency)\n",
    "    \n"
   ]
  },
  {
   "cell_type": "code",
   "execution_count": 30,
   "id": "b58e573b-ac03-4c93-8f11-f3046867ae31",
   "metadata": {},
   "outputs": [
    {
     "name": "stdout",
     "output_type": "stream",
     "text": [
      "merge dictionary is: {'a': 10, 'b': 20, 'c': 150, 'd': 40}\n"
     ]
    }
   ],
   "source": [
    "#Question 32:- Write a code that takes two dictionaries as input and merge them into a single dictionary. if there are common keys, the values should be added together.?\n",
    "def merge_dicts(dict1,dict2):\n",
    "    \n",
    "    #create a new dictionary to store the merge dictionary\n",
    "    merged_dict={}\n",
    "    \n",
    "    #merge values from dict1 into merged_dict\n",
    "    for key ,value in dict1.items():\n",
    "        merged_dict[key]=value\n",
    "    #merge values from dict2 into merged_dict\n",
    "    for keys , values in dict2.items():\n",
    "        #if keys allready present in merged_dict , add the values together\n",
    "        if keys in merged_dict:\n",
    "            merged_dict[key]+=values\n",
    "        \n",
    "        else:\n",
    "            #otherwise set value directly\n",
    "            merged_dict[keys]=values\n",
    "            \n",
    "    return merged_dict\n",
    "\n",
    "#eg usage:\n",
    "dict1 = {'a': 10, 'b': 20, 'c': 30}\n",
    "dict2 = {'b': 50, 'c': 70, 'd': 40}\n",
    "\n",
    "result_dict=merge_dicts(dict1,dict2)\n",
    "\n",
    "print(\"merge dictionary is:\",result_dict)\n",
    "\n",
    "            "
   ]
  },
  {
   "cell_type": "code",
   "execution_count": null,
   "id": "9ddbe412-d5ec-4ca1-a969-413bd859fe92",
   "metadata": {},
   "outputs": [],
   "source": [
    "#Question 33:- Write a code to access a values in nested dictionary . The function should take the dictionary and a list of keys as input, and return the corresponding values. if any of the keys do not exist int he dictionary , the functiion should return None.??"
   ]
  },
  {
   "cell_type": "code",
   "execution_count": null,
   "id": "ba07c983-1ede-4583-a5a0-dd35db36b642",
   "metadata": {},
   "outputs": [],
   "source": []
  },
  {
   "cell_type": "code",
   "execution_count": null,
   "id": "b20f1362-c463-44c5-a78e-4a1a433d1e87",
   "metadata": {},
   "outputs": [],
   "source": [
    "#Question 34:-Write a code that takes a dictionary  as input and returns a sorted version of it based on the values. you can choose whether to sort in ascending or descending order.??\n"
   ]
  },
  {
   "cell_type": "code",
   "execution_count": null,
   "id": "d25d122c-5d63-4998-86c5-ebce629ddec8",
   "metadata": {},
   "outputs": [],
   "source": []
  },
  {
   "cell_type": "code",
   "execution_count": null,
   "id": "25956f3a-0760-4eca-a748-ad4b078eaa20",
   "metadata": {},
   "outputs": [],
   "source": [
    "#Question 35:-Write a code that inverts a dictionary , swapping keys and values. Ensure that the dictionary correctly handles cases where multiple keys have the same value by storing the keys as a list in theinvertedd dictionary.??"
   ]
  },
  {
   "cell_type": "code",
   "execution_count": null,
   "id": "686c2657-2a3e-45d2-8a30-a75e177e97b6",
   "metadata": {},
   "outputs": [],
   "source": []
  },
  {
   "cell_type": "code",
   "execution_count": null,
   "id": "0e192058-4ceb-4aa9-8b94-db3349ea4259",
   "metadata": {},
   "outputs": [],
   "source": []
  },
  {
   "cell_type": "code",
   "execution_count": null,
   "id": "3a2cf5e7-1810-4c50-8471-da0b4885d61b",
   "metadata": {},
   "outputs": [],
   "source": []
  },
  {
   "cell_type": "code",
   "execution_count": null,
   "id": "57eef4d5-9a98-40e2-aefb-b8144c0b5db1",
   "metadata": {},
   "outputs": [],
   "source": []
  },
  {
   "cell_type": "code",
   "execution_count": null,
   "id": "bac060c3-e9d6-463b-bfc8-ca8bd6fcfca3",
   "metadata": {},
   "outputs": [],
   "source": []
  },
  {
   "cell_type": "code",
   "execution_count": null,
   "id": "b019a176-77e2-4bed-b630-8382bdff4515",
   "metadata": {},
   "outputs": [],
   "source": []
  },
  {
   "cell_type": "code",
   "execution_count": null,
   "id": "e5c83268-a026-4a64-842a-3739fdb3df03",
   "metadata": {},
   "outputs": [],
   "source": []
  },
  {
   "cell_type": "code",
   "execution_count": null,
   "id": "e41e9df0-c0f4-4773-8deb-a65fd6d183dd",
   "metadata": {},
   "outputs": [],
   "source": []
  }
 ],
 "metadata": {
  "kernelspec": {
   "display_name": "Python 3 (ipykernel)",
   "language": "python",
   "name": "python3"
  },
  "language_info": {
   "codemirror_mode": {
    "name": "ipython",
    "version": 3
   },
   "file_extension": ".py",
   "mimetype": "text/x-python",
   "name": "python",
   "nbconvert_exporter": "python",
   "pygments_lexer": "ipython3",
   "version": "3.10.8"
  }
 },
 "nbformat": 4,
 "nbformat_minor": 5
}
